{
 "cells": [
  {
   "cell_type": "code",
   "execution_count": 30,
   "metadata": {},
   "outputs": [
    {
     "data": {
      "text/html": [
       "<div>\n",
       "<style scoped>\n",
       "    .dataframe tbody tr th:only-of-type {\n",
       "        vertical-align: middle;\n",
       "    }\n",
       "\n",
       "    .dataframe tbody tr th {\n",
       "        vertical-align: top;\n",
       "    }\n",
       "\n",
       "    .dataframe thead th {\n",
       "        text-align: right;\n",
       "    }\n",
       "</style>\n",
       "<table border=\"1\" class=\"dataframe\">\n",
       "  <thead>\n",
       "    <tr style=\"text-align: right;\">\n",
       "      <th></th>\n",
       "      <th>Master Record Number</th>\n",
       "      <th>Year</th>\n",
       "      <th>Month</th>\n",
       "      <th>Day</th>\n",
       "      <th>Weekend?</th>\n",
       "      <th>Hour</th>\n",
       "      <th>Collision Type</th>\n",
       "      <th>Injury Type</th>\n",
       "      <th>Primary Factor</th>\n",
       "      <th>Reported_Location</th>\n",
       "      <th>Latitude</th>\n",
       "      <th>Longitude</th>\n",
       "    </tr>\n",
       "  </thead>\n",
       "  <tbody>\n",
       "    <tr>\n",
       "      <th>0</th>\n",
       "      <td>902363382</td>\n",
       "      <td>2015</td>\n",
       "      <td>1</td>\n",
       "      <td>5</td>\n",
       "      <td>Weekday</td>\n",
       "      <td>0.0</td>\n",
       "      <td>2-Car</td>\n",
       "      <td>No injury/unknown</td>\n",
       "      <td>OTHER (DRIVER) - EXPLAIN IN NARRATIVE</td>\n",
       "      <td>1ST &amp; FESS</td>\n",
       "      <td>39.159207</td>\n",
       "      <td>-86.525874</td>\n",
       "    </tr>\n",
       "    <tr>\n",
       "      <th>1</th>\n",
       "      <td>902364268</td>\n",
       "      <td>2015</td>\n",
       "      <td>1</td>\n",
       "      <td>6</td>\n",
       "      <td>Weekday</td>\n",
       "      <td>1500.0</td>\n",
       "      <td>2-Car</td>\n",
       "      <td>No injury/unknown</td>\n",
       "      <td>FOLLOWING TOO CLOSELY</td>\n",
       "      <td>2ND &amp; COLLEGE</td>\n",
       "      <td>39.161440</td>\n",
       "      <td>-86.534848</td>\n",
       "    </tr>\n",
       "    <tr>\n",
       "      <th>2</th>\n",
       "      <td>902364412</td>\n",
       "      <td>2015</td>\n",
       "      <td>1</td>\n",
       "      <td>6</td>\n",
       "      <td>Weekend</td>\n",
       "      <td>2300.0</td>\n",
       "      <td>2-Car</td>\n",
       "      <td>Non-incapacitating</td>\n",
       "      <td>DISREGARD SIGNAL/REG SIGN</td>\n",
       "      <td>BASSWOOD &amp; BLOOMFIELD</td>\n",
       "      <td>39.149780</td>\n",
       "      <td>-86.568890</td>\n",
       "    </tr>\n",
       "    <tr>\n",
       "      <th>3</th>\n",
       "      <td>902364551</td>\n",
       "      <td>2015</td>\n",
       "      <td>1</td>\n",
       "      <td>7</td>\n",
       "      <td>Weekend</td>\n",
       "      <td>900.0</td>\n",
       "      <td>2-Car</td>\n",
       "      <td>Non-incapacitating</td>\n",
       "      <td>FAILURE TO YIELD RIGHT OF WAY</td>\n",
       "      <td>GATES &amp; JACOBS</td>\n",
       "      <td>39.165655</td>\n",
       "      <td>-86.575956</td>\n",
       "    </tr>\n",
       "    <tr>\n",
       "      <th>4</th>\n",
       "      <td>902364615</td>\n",
       "      <td>2015</td>\n",
       "      <td>1</td>\n",
       "      <td>7</td>\n",
       "      <td>Weekend</td>\n",
       "      <td>1100.0</td>\n",
       "      <td>2-Car</td>\n",
       "      <td>No injury/unknown</td>\n",
       "      <td>FAILURE TO YIELD RIGHT OF WAY</td>\n",
       "      <td>W 3RD</td>\n",
       "      <td>39.164848</td>\n",
       "      <td>-86.579625</td>\n",
       "    </tr>\n",
       "  </tbody>\n",
       "</table>\n",
       "</div>"
      ],
      "text/plain": [
       "   Master Record Number  Year  Month  Day Weekend?    Hour Collision Type  \\\n",
       "0             902363382  2015      1    5  Weekday     0.0          2-Car   \n",
       "1             902364268  2015      1    6  Weekday  1500.0          2-Car   \n",
       "2             902364412  2015      1    6  Weekend  2300.0          2-Car   \n",
       "3             902364551  2015      1    7  Weekend   900.0          2-Car   \n",
       "4             902364615  2015      1    7  Weekend  1100.0          2-Car   \n",
       "\n",
       "          Injury Type                         Primary Factor  \\\n",
       "0   No injury/unknown  OTHER (DRIVER) - EXPLAIN IN NARRATIVE   \n",
       "1   No injury/unknown                  FOLLOWING TOO CLOSELY   \n",
       "2  Non-incapacitating              DISREGARD SIGNAL/REG SIGN   \n",
       "3  Non-incapacitating          FAILURE TO YIELD RIGHT OF WAY   \n",
       "4   No injury/unknown          FAILURE TO YIELD RIGHT OF WAY   \n",
       "\n",
       "       Reported_Location   Latitude  Longitude  \n",
       "0             1ST & FESS  39.159207 -86.525874  \n",
       "1          2ND & COLLEGE  39.161440 -86.534848  \n",
       "2  BASSWOOD & BLOOMFIELD  39.149780 -86.568890  \n",
       "3         GATES & JACOBS  39.165655 -86.575956  \n",
       "4                  W 3RD  39.164848 -86.579625  "
      ]
     },
     "execution_count": 30,
     "metadata": {},
     "output_type": "execute_result"
    }
   ],
   "source": [
    "# Dependencies and Setup\n",
    "import matplotlib.pyplot as plt\n",
    "import numpy as np \n",
    "import pandas as pd\n",
    "import scipy.stats as st\n",
    "\n",
    "# Set path for crash data file\n",
    "monroe_county_crash_path = \"data/monroe-county-crash-data2003-to-2015.csv\"\n",
    "\n",
    "# Read the crash data \n",
    "df = pd.read_csv(monroe_county_crash_path, encoding=\"ISO-8859-1\")\n",
    "\n",
    "# Display the data table for preview\n",
    "df.head()"
   ]
  },
  {
   "cell_type": "code",
   "execution_count": 31,
   "metadata": {
    "scrolled": true
   },
   "outputs": [
    {
     "name": "stdout",
     "output_type": "stream",
     "text": [
      "Index(['Master Record Number', 'Year', 'Month', 'Day', 'Weekend?', 'Hour',\n",
      "       'Collision Type', 'Injury Type', 'Primary Factor', 'Reported_Location',\n",
      "       'Latitude', 'Longitude'],\n",
      "      dtype='object')\n",
      "Master Record Number      int64\n",
      "Year                      int64\n",
      "Month                     int64\n",
      "Day                       int64\n",
      "Weekend?                 object\n",
      "Hour                    float64\n",
      "Collision Type           object\n",
      "Injury Type              object\n",
      "Primary Factor           object\n",
      "Reported_Location        object\n",
      "Latitude                float64\n",
      "Longitude               float64\n",
      "dtype: object\n"
     ]
    }
   ],
   "source": [
    "# Here are all the column names if you need to copy/paste.\n",
    "print(df.columns)\n",
    "\n",
    "# Here are all the data types.\n",
    "print(df.dtypes)"
   ]
  },
  {
   "cell_type": "markdown",
   "metadata": {},
   "source": [
    "# Data Cleaning\n",
    "\n",
    "#### Please take detailed notes of any issues that occur during your exploration, and we can clean the data up collectively when we gather next.  "
   ]
  },
  {
   "cell_type": "code",
   "execution_count": 32,
   "metadata": {},
   "outputs": [
    {
     "data": {
      "text/plain": [
       "Master Record Number       0\n",
       "Year                       0\n",
       "Month                      0\n",
       "Day                        0\n",
       "Weekend?                  68\n",
       "Hour                     225\n",
       "Collision Type             6\n",
       "Injury Type                0\n",
       "Primary Factor          1121\n",
       "Reported_Location         35\n",
       "Latitude                  30\n",
       "Longitude                 30\n",
       "dtype: int64"
      ]
     },
     "execution_count": 32,
     "metadata": {},
     "output_type": "execute_result"
    }
   ],
   "source": [
    "# Data cleaning work will be placed in this cell. Please hold on this aspect. \n",
    "# Chris Question 4\n",
    "# counting the values \n",
    "df.isnull().sum()"
   ]
  },
  {
   "cell_type": "code",
   "execution_count": 33,
   "metadata": {},
   "outputs": [],
   "source": [
    "collisioncount = df[\"Collision Type\"]. value_counts()"
   ]
  },
  {
   "cell_type": "code",
   "execution_count": 34,
   "metadata": {},
   "outputs": [],
   "source": [
    "df1=df.dropna(axis=0,subset = [\"Collision Type\"]) "
   ]
  },
  {
   "cell_type": "code",
   "execution_count": null,
   "metadata": {},
   "outputs": [],
   "source": []
  },
  {
   "cell_type": "code",
   "execution_count": 61,
   "metadata": {},
   "outputs": [
    {
     "data": {
      "text/plain": [
       "Index(['No injury/unknown', 'Non-incapacitating', 'Incapacitating', 'Fatal'], dtype='object')"
      ]
     },
     "execution_count": 61,
     "metadata": {},
     "output_type": "execute_result"
    }
   ],
   "source": [
    "injury_count=df1[\"Injury Type\"].value_counts()\n",
    "injury_count.index"
   ]
  },
  {
   "cell_type": "code",
   "execution_count": 62,
   "metadata": {},
   "outputs": [
    {
     "data": {
      "text/plain": [
       "2-Car               37606\n",
       "1-Car               10245\n",
       "3+ Cars              3152\n",
       "Moped/Motorcycle     1007\n",
       "Bus                   850\n",
       "Pedestrian            609\n",
       "Cyclist               468\n",
       "Name: Collision Type, dtype: int64"
      ]
     },
     "execution_count": 62,
     "metadata": {},
     "output_type": "execute_result"
    }
   ],
   "source": [
    "collision_count=df1[\"Collision Type\"].value_counts()\n",
    "collision_count"
   ]
  },
  {
   "cell_type": "code",
   "execution_count": 77,
   "metadata": {},
   "outputs": [
    {
     "data": {
      "image/png": "[encoded data removed]",
      "text/plain": [
       "<Figure size 720x576 with 1 Axes>"
      ]
     },
     "metadata": {},
     "output_type": "display_data"
    }
   ],
   "source": [
    "explode = (0.1, 0, 0, 0,)\n",
    "injury_count.plot(kind=\"pie\", explode= explode, autopct=\"%1.1f%%\", pctdistance=1.04,labels=[\"\",\"\",\"\",\"\",\"\"], shadow=False, startangle=140, figsize = (10,8))\n",
    "plt.axis(\"equal\");\n",
    "plt.ylabel(\"\")\n",
    "plt.title(\"Injury Type by Percentage\")\n",
    "plt.legend(labels=injury_count.index, fontsize = 12) \n",
    "plt.tight_layout()"
   ]
  },
  {
   "cell_type": "code",
   "execution_count": 38,
   "metadata": {},
   "outputs": [],
   "source": [
    "df2=df[[\"Collision Type\",\"Injury Type\"]]"
   ]
  },
  {
   "cell_type": "code",
   "execution_count": 39,
   "metadata": {},
   "outputs": [
    {
     "data": {
      "text/html": [
       "<div>\n",
       "<style scoped>\n",
       "    .dataframe tbody tr th:only-of-type {\n",
       "        vertical-align: middle;\n",
       "    }\n",
       "\n",
       "    .dataframe tbody tr th {\n",
       "        vertical-align: top;\n",
       "    }\n",
       "\n",
       "    .dataframe thead th {\n",
       "        text-align: right;\n",
       "    }\n",
       "</style>\n",
       "<table border=\"1\" class=\"dataframe\">\n",
       "  <thead>\n",
       "    <tr style=\"text-align: right;\">\n",
       "      <th></th>\n",
       "      <th>Master Record Number</th>\n",
       "      <th>Year</th>\n",
       "      <th>Month</th>\n",
       "      <th>Day</th>\n",
       "      <th>Weekend?</th>\n",
       "      <th>Hour</th>\n",
       "      <th>Collision Type</th>\n",
       "      <th>Injury Type</th>\n",
       "      <th>Primary Factor</th>\n",
       "      <th>Reported_Location</th>\n",
       "      <th>Latitude</th>\n",
       "      <th>Longitude</th>\n",
       "    </tr>\n",
       "  </thead>\n",
       "  <tbody>\n",
       "    <tr>\n",
       "      <th>0</th>\n",
       "      <td>902363382</td>\n",
       "      <td>2015</td>\n",
       "      <td>1</td>\n",
       "      <td>5</td>\n",
       "      <td>Weekday</td>\n",
       "      <td>0.0</td>\n",
       "      <td>2-Car</td>\n",
       "      <td>No injury/unknown</td>\n",
       "      <td>OTHER (DRIVER) - EXPLAIN IN NARRATIVE</td>\n",
       "      <td>1ST &amp; FESS</td>\n",
       "      <td>39.159207</td>\n",
       "      <td>-86.525874</td>\n",
       "    </tr>\n",
       "    <tr>\n",
       "      <th>1</th>\n",
       "      <td>902364268</td>\n",
       "      <td>2015</td>\n",
       "      <td>1</td>\n",
       "      <td>6</td>\n",
       "      <td>Weekday</td>\n",
       "      <td>1500.0</td>\n",
       "      <td>2-Car</td>\n",
       "      <td>No injury/unknown</td>\n",
       "      <td>FOLLOWING TOO CLOSELY</td>\n",
       "      <td>2ND &amp; COLLEGE</td>\n",
       "      <td>39.161440</td>\n",
       "      <td>-86.534848</td>\n",
       "    </tr>\n",
       "    <tr>\n",
       "      <th>4</th>\n",
       "      <td>902364615</td>\n",
       "      <td>2015</td>\n",
       "      <td>1</td>\n",
       "      <td>7</td>\n",
       "      <td>Weekend</td>\n",
       "      <td>1100.0</td>\n",
       "      <td>2-Car</td>\n",
       "      <td>No injury/unknown</td>\n",
       "      <td>FAILURE TO YIELD RIGHT OF WAY</td>\n",
       "      <td>W 3RD</td>\n",
       "      <td>39.164848</td>\n",
       "      <td>-86.579625</td>\n",
       "    </tr>\n",
       "    <tr>\n",
       "      <th>5</th>\n",
       "      <td>902364664</td>\n",
       "      <td>2015</td>\n",
       "      <td>1</td>\n",
       "      <td>6</td>\n",
       "      <td>Weekday</td>\n",
       "      <td>1800.0</td>\n",
       "      <td>2-Car</td>\n",
       "      <td>No injury/unknown</td>\n",
       "      <td>FAILURE TO YIELD RIGHT OF WAY</td>\n",
       "      <td>BURKS &amp; WALNUT</td>\n",
       "      <td>39.126670</td>\n",
       "      <td>-86.531370</td>\n",
       "    </tr>\n",
       "    <tr>\n",
       "      <th>6</th>\n",
       "      <td>902364682</td>\n",
       "      <td>2015</td>\n",
       "      <td>1</td>\n",
       "      <td>6</td>\n",
       "      <td>Weekday</td>\n",
       "      <td>1200.0</td>\n",
       "      <td>2-Car</td>\n",
       "      <td>No injury/unknown</td>\n",
       "      <td>DRIVER DISTRACTED - EXPLAIN IN NARRATIVE</td>\n",
       "      <td>SOUTH CURRY PIKE LOT 71</td>\n",
       "      <td>39.150825</td>\n",
       "      <td>-86.584899</td>\n",
       "    </tr>\n",
       "  </tbody>\n",
       "</table>\n",
       "</div>"
      ],
      "text/plain": [
       "   Master Record Number  Year  Month  Day Weekend?    Hour Collision Type  \\\n",
       "0             902363382  2015      1    5  Weekday     0.0          2-Car   \n",
       "1             902364268  2015      1    6  Weekday  1500.0          2-Car   \n",
       "4             902364615  2015      1    7  Weekend  1100.0          2-Car   \n",
       "5             902364664  2015      1    6  Weekday  1800.0          2-Car   \n",
       "6             902364682  2015      1    6  Weekday  1200.0          2-Car   \n",
       "\n",
       "         Injury Type                            Primary Factor  \\\n",
       "0  No injury/unknown     OTHER (DRIVER) - EXPLAIN IN NARRATIVE   \n",
       "1  No injury/unknown                     FOLLOWING TOO CLOSELY   \n",
       "4  No injury/unknown             FAILURE TO YIELD RIGHT OF WAY   \n",
       "5  No injury/unknown             FAILURE TO YIELD RIGHT OF WAY   \n",
       "6  No injury/unknown  DRIVER DISTRACTED - EXPLAIN IN NARRATIVE   \n",
       "\n",
       "         Reported_Location   Latitude  Longitude  \n",
       "0               1ST & FESS  39.159207 -86.525874  \n",
       "1            2ND & COLLEGE  39.161440 -86.534848  \n",
       "4                    W 3RD  39.164848 -86.579625  \n",
       "5           BURKS & WALNUT  39.126670 -86.531370  \n",
       "6  SOUTH CURRY PIKE LOT 71  39.150825 -86.584899  "
      ]
     },
     "execution_count": 39,
     "metadata": {},
     "output_type": "execute_result"
    }
   ],
   "source": [
    "no_injuries = df[df[\"Injury Type\"] == \"No injury/unknown\"]\n",
    "no_injuries.head()\n"
   ]
  },
  {
   "cell_type": "code",
   "execution_count": 40,
   "metadata": {},
   "outputs": [
    {
     "data": {
      "text/html": [
       "<div>\n",
       "<style scoped>\n",
       "    .dataframe tbody tr th:only-of-type {\n",
       "        vertical-align: middle;\n",
       "    }\n",
       "\n",
       "    .dataframe tbody tr th {\n",
       "        vertical-align: top;\n",
       "    }\n",
       "\n",
       "    .dataframe thead th {\n",
       "        text-align: right;\n",
       "    }\n",
       "</style>\n",
       "<table border=\"1\" class=\"dataframe\">\n",
       "  <thead>\n",
       "    <tr style=\"text-align: right;\">\n",
       "      <th></th>\n",
       "      <th>Injury Type</th>\n",
       "      <th>Collision Type</th>\n",
       "    </tr>\n",
       "  </thead>\n",
       "  <tbody>\n",
       "    <tr>\n",
       "      <th>0</th>\n",
       "      <td>No injury/unknown</td>\n",
       "      <td>2-Car</td>\n",
       "    </tr>\n",
       "    <tr>\n",
       "      <th>1</th>\n",
       "      <td>No injury/unknown</td>\n",
       "      <td>2-Car</td>\n",
       "    </tr>\n",
       "    <tr>\n",
       "      <th>4</th>\n",
       "      <td>No injury/unknown</td>\n",
       "      <td>2-Car</td>\n",
       "    </tr>\n",
       "    <tr>\n",
       "      <th>5</th>\n",
       "      <td>No injury/unknown</td>\n",
       "      <td>2-Car</td>\n",
       "    </tr>\n",
       "    <tr>\n",
       "      <th>6</th>\n",
       "      <td>No injury/unknown</td>\n",
       "      <td>2-Car</td>\n",
       "    </tr>\n",
       "  </tbody>\n",
       "</table>\n",
       "</div>"
      ],
      "text/plain": [
       "         Injury Type Collision Type\n",
       "0  No injury/unknown          2-Car\n",
       "1  No injury/unknown          2-Car\n",
       "4  No injury/unknown          2-Car\n",
       "5  No injury/unknown          2-Car\n",
       "6  No injury/unknown          2-Car"
      ]
     },
     "execution_count": 40,
     "metadata": {},
     "output_type": "execute_result"
    }
   ],
   "source": [
    "no_injuries = no_injuries[[\"Injury Type\", \"Collision Type\"]]\n",
    "\n",
    "#no_injuries = pd.DataFrame({\n",
    " #   \"No Injury/Unknown Collision Types\": no_injuries[\"Collision Type\"].value_counts()})\n",
    "no_injuries.head()\n"
   ]
  },
  {
   "cell_type": "code",
   "execution_count": 41,
   "metadata": {},
   "outputs": [
    {
     "data": {
      "text/plain": [
       "[30807, 7854, 1855, 758, 213, 61, 49]"
      ]
     },
     "execution_count": 41,
     "metadata": {},
     "output_type": "execute_result"
    }
   ],
   "source": [
    "no_injuries2 = pd.DataFrame({\n",
    "    \"Collision Type\" : no_injuries[\"Collision Type\"].value_counts()\n",
    "})\n",
    "\n",
    "# Set x and y values \n",
    "x_values = list(no_injuries2.index)\n",
    "y_values = no_injuries2[\"Collision Type\"].to_list()\n",
    "y_values"
   ]
  },
  {
   "cell_type": "code",
   "execution_count": 42,
   "metadata": {},
   "outputs": [
    {
     "data": {
      "text/plain": [
       "Text(0.5, 1.0, 'Collision Type for No Injury')"
      ]
     },
     "execution_count": 42,
     "metadata": {},
     "output_type": "execute_result"
    },
    {
     "data": {
      "image/png": "[encoded data removed]",
      "text/plain": [
       "<Figure size 432x288 with 1 Axes>"
      ]
     },
     "metadata": {
      "needs_background": "light"
     },
     "output_type": "display_data"
    }
   ],
   "source": [
    "no_injuries2.plot(kind='bar')\n",
    "plt.title(\"Collision Type for No Injury\" )"
   ]
  },
  {
   "cell_type": "code",
   "execution_count": null,
   "metadata": {},
   "outputs": [],
   "source": []
  },
  {
   "cell_type": "code",
   "execution_count": null,
   "metadata": {},
   "outputs": [],
   "source": [
    "# Your work here \n",
    "\n",
    "\n",
    "# Tosha: In case it is helpful, I've provided a framework for one way your section could be approached. \n",
    "# 1) Filter df for fatal accidents in Injury Type. Perhaps like fatal_df = df[df[\"Injury Type\"] == \"Fatal\"]\n",
    "\n",
    "# 2) Count weekend and weekday accidents using Weekend? column. Perhaps you can use .value_counts() on Weekend? to get y-values?\n",
    "\n",
    "# 3) Place this .value_counts() named variable into a data frame, using pd.DataFrame\n",
    "\n",
    "# 4) Put these values into a pie chart. If you use df.plot(kind=\"pie\"...etc), you can then plot this data frame into a pie chart. \n",
    "\n",
    "# 5) plt.show()\n",
    "\n",
    "# 6) Repeat steps 2-5 using the Hour column instead of Weekend?. You might utilize binning here with two categories and then using pd.cut. \n",
    "# Note: Going from midnight-noon (AM) and noon-midnight (PM) may not be fruitful. We could consider making a morning-early evening bin and late evening-early morning bin (daytime vs. nighttime)  \n",
    " "
   ]
  }
 ],
 "metadata": {
  "kernelspec": {
   "display_name": "Python 3",
   "language": "python",
   "name": "python3"
  },
  "language_info": {
   "codemirror_mode": {
    "name": "ipython",
    "version": 3
   },
   "file_extension": ".py",
   "mimetype": "text/x-python",
   "name": "python",
   "nbconvert_exporter": "python",
   "pygments_lexer": "ipython3",
   "version": "3.8.5"
  }
 },
 "nbformat": 4,
 "nbformat_minor": 4
}
